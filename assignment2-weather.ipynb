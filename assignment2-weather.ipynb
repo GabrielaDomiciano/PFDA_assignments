{
 "cells": [
  {
   "cell_type": "markdown",
   "metadata": {},
   "source": [
    "\n",
    "## Week 01\n",
    "#### Gabriela Domiciano\n",
    "\n",
    " \n",
    " - Create a jupyter notebook that has a nice plot of the temperature over time \n",
    "\n",
    " ( \"dryBulbTemperature_Celsius\" )."
   ]
  }
 ],
 "metadata": {
  "language_info": {
   "name": "python"
  }
 },
 "nbformat": 4,
 "nbformat_minor": 2
}
